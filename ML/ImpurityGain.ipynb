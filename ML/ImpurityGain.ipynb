{
 "cells": [
  {
   "cell_type": "code",
   "execution_count": 69,
   "id": "15a5d521",
   "metadata": {},
   "outputs": [
    {
     "name": "stdout",
     "output_type": "stream",
     "text": [
      "1 0 1 0 1 0 1 0\n",
      "1 0 1 0\n",
      "1 0 1 0\n"
     ]
    }
   ],
   "source": [
    "S = [int(x) for x in input().split()]\n",
    "A = [int(x) for x in input().split()]\n",
    "B = [int(x) for x in input().split()]\n"
   ]
  },
  {
   "cell_type": "code",
   "execution_count": 72,
   "id": "224c9ee8",
   "metadata": {},
   "outputs": [
    {
     "name": "stdout",
     "output_type": "stream",
     "text": [
      "0.0\n"
     ]
    }
   ],
   "source": [
    "St=0;\n",
    "for x in S:\n",
    "    St+=x;\n",
    "#print('st',St)\n",
    "imp=2*St/len(S)*(1-St/len(S))\n",
    "#print(imp)\n",
    "lef1=0;\n",
    "left0=0;\n",
    "for x in A:\n",
    "    lef1+=x\n",
    "#print('lef1',lef1)\n",
    "lef0=len(A)-lef1\n",
    "#print('lef0',lef0)\n",
    "Aimp = 2*lef1/len(A)*lef0/len(A)\n",
    "#print('Aimp',Aimp)\n",
    "rig1=0;\n",
    "rig0=0;\n",
    "for x in B:\n",
    "    rig1+=x\n",
    "#print('rig1',rig1)\n",
    "rig0=len(B)-rig1\n",
    "#print('rig0',rig0)\n",
    "Aimp2 = 2*rig1/len(B)*rig0/len(B)\n",
    "#print(Aimp2)\n",
    "print(round(imp-len(A)/len(S)*Aimp-len(B)/len(S)*Aimp2,5))"
   ]
  },
  {
   "cell_type": "code",
   "execution_count": null,
   "id": "21e80254",
   "metadata": {},
   "outputs": [],
   "source": []
  }
 ],
 "metadata": {
  "kernelspec": {
   "display_name": "Python 3 (ipykernel)",
   "language": "python",
   "name": "python3"
  },
  "language_info": {
   "codemirror_mode": {
    "name": "ipython",
    "version": 3
   },
   "file_extension": ".py",
   "mimetype": "text/x-python",
   "name": "python",
   "nbconvert_exporter": "python",
   "pygments_lexer": "ipython3",
   "version": "3.8.8"
  }
 },
 "nbformat": 4,
 "nbformat_minor": 5
}
