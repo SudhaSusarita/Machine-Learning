{
 "cells": [
  {
   "cell_type": "code",
   "execution_count": 10,
   "id": "c15fb392",
   "metadata": {},
   "outputs": [
    {
     "name": "stdout",
     "output_type": "stream",
     "text": [
      "   Survived  Pclass     Sex   Age  Siblings/Spouses  Parents/Children     Fare\n",
      "0         0       3    male  22.0                 1                 0   7.2500\n",
      "1         1       1  female  38.0                 1                 0  71.2833\n",
      "2         1       3  female  26.0                 0                 0   7.9250\n",
      "3         1       1  female  35.0                 1                 0  53.1000\n",
      "4         0       3    male  35.0                 0                 0   8.0500\n"
     ]
    }
   ],
   "source": [
    "import pandas as pd\n",
    "from sklearn.linear_model import LogisticRegression\n",
    "\n",
    "df=pd.read_csv(\"My Documents\\\\Book1.csv\");\n",
    "print(df.head())"
   ]
  },
  {
   "cell_type": "code",
   "execution_count": 17,
   "id": "ef62101b",
   "metadata": {},
   "outputs": [
    {
     "name": "stdout",
     "output_type": "stream",
     "text": [
      "   Survived  Pclass     Sex   Age  Siblings/Spouses  Parents/Children  \\\n",
      "0         0       3    male  22.0                 1                 0   \n",
      "1         1       1  female  38.0                 1                 0   \n",
      "2         1       3  female  26.0                 0                 0   \n",
      "3         1       1  female  35.0                 1                 0   \n",
      "4         0       3    male  35.0                 0                 0   \n",
      "\n",
      "      Fare  Female  \n",
      "0   7.2500   False  \n",
      "1  71.2833    True  \n",
      "2   7.9250    True  \n",
      "3  53.1000    True  \n",
      "4   8.0500   False  \n"
     ]
    }
   ],
   "source": [
    "df['Female'] = df['Sex'] == 'female'\n",
    "print(df.head())"
   ]
  },
  {
   "cell_type": "code",
   "execution_count": 37,
   "id": "8925c780",
   "metadata": {},
   "outputs": [
    {
     "name": "stdout",
     "output_type": "stream",
     "text": [
      "[[1 3 22.0 0 7.25 False]\n",
      " [1 1 38.0 0 71.2833 True]\n",
      " [0 3 26.0 0 7.925 True]\n",
      " [1 1 35.0 0 53.1 True]\n",
      " [0 3 35.0 0 8.05 False]]\n",
      "[[-0.38749612 -1.13634709 -0.04237746 -0.09619524  0.00297207  2.64434883]] [2.44422311]\n"
     ]
    }
   ],
   "source": [
    "x=df[['Siblings/Spouses','Pclass','Age','Parents/Children','Fare','Female']].values\n",
    "print(x[:5])\n",
    "y=df['Survived'].values\n",
    "\n",
    "model= LogisticRegression()\n",
    "model.fit(x,y)\n",
    "print(model.coef_,model.intercept_)"
   ]
  },
  {
   "cell_type": "code",
   "execution_count": null,
   "id": "dd85e5fd",
   "metadata": {},
   "outputs": [],
   "source": []
  },
  {
   "cell_type": "code",
   "execution_count": 23,
   "id": "2cdef8ac",
   "metadata": {},
   "outputs": [
    {
     "name": "stdout",
     "output_type": "stream",
     "text": [
      "[0 1 1 1 0]\n",
      "[0 1 1 1 0]\n"
     ]
    }
   ],
   "source": [
    "print(model.predict(x[:5]))\n",
    "print(y[:5])"
   ]
  },
  {
   "cell_type": "code",
   "execution_count": 29,
   "id": "d7561dd5",
   "metadata": {},
   "outputs": [
    {
     "name": "stdout",
     "output_type": "stream",
     "text": [
      "714\n",
      "80.49605411499437\n"
     ]
    }
   ],
   "source": [
    "y_pred=model.predict(x)\n",
    "y==y_pred\n",
    "score=(y==y_pred).sum()\n",
    "print(score)\n",
    "accuracy=score/y.shape[0] *100\n",
    "print(accuracy)"
   ]
  },
  {
   "cell_type": "code",
   "execution_count": 30,
   "id": "6ebc886a",
   "metadata": {},
   "outputs": [
    {
     "name": "stdout",
     "output_type": "stream",
     "text": [
      "0.8049605411499436\n"
     ]
    }
   ],
   "source": [
    "print(model.score(x,y))"
   ]
  },
  {
   "cell_type": "code",
   "execution_count": null,
   "id": "520e7a85",
   "metadata": {},
   "outputs": [],
   "source": []
  },
  {
   "cell_type": "code",
   "execution_count": null,
   "id": "b8b42b67",
   "metadata": {},
   "outputs": [],
   "source": []
  }
 ],
 "metadata": {
  "kernelspec": {
   "display_name": "Python 3 (ipykernel)",
   "language": "python",
   "name": "python3"
  },
  "language_info": {
   "codemirror_mode": {
    "name": "ipython",
    "version": 3
   },
   "file_extension": ".py",
   "mimetype": "text/x-python",
   "name": "python",
   "nbconvert_exporter": "python",
   "pygments_lexer": "ipython3",
   "version": "3.8.8"
  }
 },
 "nbformat": 4,
 "nbformat_minor": 5
}
