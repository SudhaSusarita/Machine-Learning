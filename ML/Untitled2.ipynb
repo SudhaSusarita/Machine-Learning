{
 "cells": [
  {
   "cell_type": "code",
   "execution_count": null,
   "id": "a82735b1",
   "metadata": {},
   "outputs": [],
   "source": [
    "print('3')"
   ]
  },
  {
   "cell_type": "code",
   "execution_count": null,
   "id": "d1ae7c38",
   "metadata": {},
   "outputs": [],
   "source": []
  }
 ],
 "metadata": {
  "kernelspec": {
   "display_name": "Python 3 (ipykernel)",
   "language": "python",
   "name": "python3"
  }
 },
 "nbformat": 4,
 "nbformat_minor": 5
}
