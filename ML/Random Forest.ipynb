{
 "cells": [
  {
   "cell_type": "code",
   "execution_count": 1,
   "id": "ce24a2ee",
   "metadata": {},
   "outputs": [
    {
     "name": "stdout",
     "output_type": "stream",
     "text": [
      "99\n",
      "5\n",
      "0.52 0.9\n",
      "-1.68 -3.01\n",
      "-0.52 -2.43\n",
      "-0.93 -0.22\n",
      "-1.31 -0.32\n",
      "1 1 0 0 0\n",
      "[0 0]\n"
     ]
    }
   ],
   "source": [
    "import numpy as np\n",
    "from sklearn.model_selection import train_test_split\n",
    "\n",
    "from sklearn.ensemble import RandomForestClassifier\n",
    "\n",
    "random_state = int(input())\n",
    "n = int(input())\n",
    "rows = []\n",
    "for i in range(n):\n",
    "    rows.append([float(a) for a in input().split()])\n",
    "\n",
    "X = np.array(rows)\n",
    "y = np.array([int(a) for a in input().split()])\n",
    "X_train, X_test, y_train, y_test = train_test_split(X, y, random_state=random_state)\n",
    "rf = RandomForestClassifier(n_estimators=5,random_state=random_state)\n",
    "rf.fit(X_train, y_train)\n",
    "print(rf.predict(X_test))"
   ]
  },
  {
   "cell_type": "code",
   "execution_count": null,
   "id": "a1aeb581",
   "metadata": {},
   "outputs": [],
   "source": []
  }
 ],
 "metadata": {
  "kernelspec": {
   "display_name": "Python 3 (ipykernel)",
   "language": "python",
   "name": "python3"
  },
  "language_info": {
   "codemirror_mode": {
    "name": "ipython",
    "version": 3
   },
   "file_extension": ".py",
   "mimetype": "text/x-python",
   "name": "python",
   "nbconvert_exporter": "python",
   "pygments_lexer": "ipython3",
   "version": "3.8.8"
  }
 },
 "nbformat": 4,
 "nbformat_minor": 5
}
